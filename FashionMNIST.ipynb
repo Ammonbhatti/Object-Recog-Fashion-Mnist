{
  "nbformat": 4,
  "nbformat_minor": 0,
  "metadata": {
    "colab": {
      "name": "Untitled0.ipynb",
      "provenance": []
    },
    "kernelspec": {
      "name": "python3",
      "display_name": "Python 3"
    }
  },
  "cells": [
    {
      "cell_type": "markdown",
      "metadata": {
        "id": "1r5zkHLHsW9Q",
        "colab_type": "text"
      },
      "source": [
        "# CNN Classifier for Fashion MNIST\n",
        "MNIST is considered the \"hello world\" of machine learning. Below you  \n",
        "will see my implementation of a CNN that classifies images from the  \n",
        "Fashion MNIST dataset. The dataset consists of 70,000 28x28 images of shoes and  \n",
        "clothing from a company called Zalando. My model achieves about 91 percent  \n",
        "accuracy on the validationd set. The dataset is loaded in from the Keras package. I also    \n",
        "graphed the training and test set accuracies over the epochs. The results are listed below. "
      ]
    },
    {
      "cell_type": "code",
      "metadata": {
        "id": "KtBQnqoLrn8i",
        "colab_type": "code",
        "colab": {
          "base_uri": "https://localhost:8080/",
          "height": 925
        },
        "outputId": "5353de8c-2348-4775-f2ad-edfdb1129744"
      },
      "source": [
        "\n",
        "from keras.datasets import fashion_mnist\n",
        "from keras.utils import to_categorical\n",
        "from keras import layers\n",
        "from keras import models\n",
        "import matplotlib.pyplot as plt\n",
        "\n",
        "(X_train, y_train), (valid_x, valid_y) = fashion_mnist.load_data()\n",
        "\n",
        "model = models.Sequential()\n",
        "model.add(layers.Conv2D(32,(5,5),activation='relu',input_shape=(28, 28,1)))\n",
        "model.add(layers.MaxPooling2D((2, 2)))\n",
        "model.add(layers.Conv2D(64, (3, 3), activation='relu'))\n",
        "model.add(layers.MaxPooling2D((2, 2)))\n",
        "model.add(layers.Conv2D(64, (3, 3), activation='relu'))\n",
        "model.add(layers.Flatten())\n",
        "model.add(layers.Dense(10, activation='softmax'))\n",
        "\n",
        "\n",
        "X_train = X_train.reshape((60000, 28, 28, 1))\n",
        "X_train = X_train.astype('float32') / 255\n",
        "valid_x = valid_x.reshape((10000, 28, 28, 1))\n",
        "valid_x = valid_x.astype('float32') / 255\n",
        "y_train = to_categorical(y_train)\n",
        "valid_y = to_categorical(valid_y)\n",
        "\n",
        "\n",
        "model.compile(loss='categorical_crossentropy',\n",
        "              optimizer='adam',\n",
        "              metrics=['accuracy'])\n",
        "\n",
        "history = model.fit(X_train, y_train,\n",
        "          validation_data = (valid_x, valid_y),\n",
        "          batch_size=100,\n",
        "          epochs=15,\n",
        "          verbose=1)\n",
        "\n",
        "# Plot history: MAE\n",
        "plt.plot(history.history['accuracy'])\n",
        "plt.plot(history.history['val_accuracy'])\n",
        "plt.ylabel('Accuracy')\n",
        "plt.xlabel('Epoch Number')\n",
        "plt.show()\n",
        "\n"
      ],
      "execution_count": 1,
      "outputs": [
        {
          "output_type": "stream",
          "text": [
            "Downloading data from https://storage.googleapis.com/tensorflow/tf-keras-datasets/train-labels-idx1-ubyte.gz\n",
            "32768/29515 [=================================] - 0s 0us/step\n",
            "Downloading data from https://storage.googleapis.com/tensorflow/tf-keras-datasets/train-images-idx3-ubyte.gz\n",
            "26427392/26421880 [==============================] - 0s 0us/step\n",
            "Downloading data from https://storage.googleapis.com/tensorflow/tf-keras-datasets/t10k-labels-idx1-ubyte.gz\n",
            "8192/5148 [===============================================] - 0s 0us/step\n",
            "Downloading data from https://storage.googleapis.com/tensorflow/tf-keras-datasets/t10k-images-idx3-ubyte.gz\n",
            "4423680/4422102 [==============================] - 0s 0us/step\n",
            "Epoch 1/15\n",
            "600/600 [==============================] - 49s 82ms/step - loss: 0.5842 - accuracy: 0.7884 - val_loss: 0.4284 - val_accuracy: 0.8494\n",
            "Epoch 2/15\n",
            "600/600 [==============================] - 49s 81ms/step - loss: 0.3742 - accuracy: 0.8657 - val_loss: 0.3716 - val_accuracy: 0.8660\n",
            "Epoch 3/15\n",
            "600/600 [==============================] - 49s 81ms/step - loss: 0.3241 - accuracy: 0.8857 - val_loss: 0.3403 - val_accuracy: 0.8760\n",
            "Epoch 4/15\n",
            "600/600 [==============================] - 49s 81ms/step - loss: 0.2919 - accuracy: 0.8945 - val_loss: 0.3093 - val_accuracy: 0.8882\n",
            "Epoch 5/15\n",
            "600/600 [==============================] - 49s 81ms/step - loss: 0.2669 - accuracy: 0.9043 - val_loss: 0.2969 - val_accuracy: 0.8960\n",
            "Epoch 6/15\n",
            "600/600 [==============================] - 49s 81ms/step - loss: 0.2474 - accuracy: 0.9108 - val_loss: 0.2724 - val_accuracy: 0.9054\n",
            "Epoch 7/15\n",
            "600/600 [==============================] - 49s 81ms/step - loss: 0.2328 - accuracy: 0.9153 - val_loss: 0.2772 - val_accuracy: 0.9019\n",
            "Epoch 8/15\n",
            "600/600 [==============================] - 49s 81ms/step - loss: 0.2166 - accuracy: 0.9212 - val_loss: 0.2681 - val_accuracy: 0.9054\n",
            "Epoch 9/15\n",
            "600/600 [==============================] - 49s 81ms/step - loss: 0.2058 - accuracy: 0.9258 - val_loss: 0.2677 - val_accuracy: 0.9039\n",
            "Epoch 10/15\n",
            "600/600 [==============================] - 48s 81ms/step - loss: 0.1910 - accuracy: 0.9312 - val_loss: 0.2746 - val_accuracy: 0.9063\n",
            "Epoch 11/15\n",
            "600/600 [==============================] - 48s 81ms/step - loss: 0.1816 - accuracy: 0.9334 - val_loss: 0.2663 - val_accuracy: 0.9088\n",
            "Epoch 12/15\n",
            "600/600 [==============================] - 48s 81ms/step - loss: 0.1709 - accuracy: 0.9373 - val_loss: 0.2587 - val_accuracy: 0.9109\n",
            "Epoch 13/15\n",
            "600/600 [==============================] - 49s 81ms/step - loss: 0.1626 - accuracy: 0.9396 - val_loss: 0.2703 - val_accuracy: 0.9106\n",
            "Epoch 14/15\n",
            "600/600 [==============================] - 48s 81ms/step - loss: 0.1500 - accuracy: 0.9450 - val_loss: 0.2781 - val_accuracy: 0.9124\n",
            "Epoch 15/15\n",
            "600/600 [==============================] - 48s 81ms/step - loss: 0.1405 - accuracy: 0.9487 - val_loss: 0.2737 - val_accuracy: 0.9102\n"
          ],
          "name": "stdout"
        },
        {
          "output_type": "display_data",
          "data": {
            "image/png": "[encoded data removed]",
            "text/plain": [
              "<Figure size 432x288 with 1 Axes>"
            ]
          },
          "metadata": {
            "tags": [],
            "needs_background": "light"
          }
        }
      ]
    }
  ]
}